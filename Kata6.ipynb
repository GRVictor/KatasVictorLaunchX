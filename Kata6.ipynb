{
 "cells": [
  {
   "cell_type": "markdown",
   "metadata": {},
   "source": [
    "## Lista de nombres de planetas"
   ]
  },
  {
   "cell_type": "code",
   "execution_count": 8,
   "metadata": {},
   "outputs": [
    {
     "name": "stdout",
     "output_type": "stream",
     "text": [
      "Hay 8 planetas\n",
      "Pluton es el último planeta.\n"
     ]
    }
   ],
   "source": [
    "planetas = ['Mercurio', 'Venus', 'Tierra', 'Marte', 'Jupiter', 'Saturno', 'Urano', 'Neptuno']\n",
    "print('Hay', len(planetas), 'planetas')\n",
    "planetas.append('Pluton')\n",
    "\n",
    "print(planetas[-1], 'es el último planeta.')\n"
   ]
  },
  {
   "cell_type": "markdown",
   "metadata": {},
   "source": [
    "## Ahora con un input"
   ]
  },
  {
   "cell_type": "code",
   "execution_count": 9,
   "metadata": {},
   "outputs": [
    {
     "name": "stdout",
     "output_type": "stream",
     "text": [
      "Los planetas más cercanos comparados con Tierra\n",
      "son:  ['Mercurio', 'Venus']\n",
      "Los planetas más lejanos comprados con Tierra\n",
      "son:  ['Marte', 'Jupiter', 'Saturno', 'Urano', 'Neptuno', 'Pluton']\n"
     ]
    }
   ],
   "source": [
    "insertar_planeta = input('Por favor, ingresa el nombre del planeta (comenzando por la primer letra en mayuscula)')\n",
    "search_planeta = planetas.index(insertar_planeta)\n",
    "print('Los planetas más cercanos comparados con ' + insertar_planeta)\n",
    "print(\"son: \", planetas[0:search_planeta])\n",
    "print('Los planetas más lejanos comprados con ' + insertar_planeta)\n",
    "print(\"son: \", planetas[search_planeta + 1:])"
   ]
  }
 ],
 "metadata": {
  "interpreter": {
   "hash": "9c03ba2cdf7396378bfb4f6f58844b901e2151d625ed5524467b4fbff270b873"
  },
  "kernelspec": {
   "display_name": "Python 3.10.2 64-bit",
   "language": "python",
   "name": "python3"
  },
  "language_info": {
   "codemirror_mode": {
    "name": "ipython",
    "version": 3
   },
   "file_extension": ".py",
   "mimetype": "text/x-python",
   "name": "python",
   "nbconvert_exporter": "python",
   "pygments_lexer": "ipython3",
   "version": "3.10.2"
  },
  "orig_nbformat": 4
 },
 "nbformat": 4,
 "nbformat_minor": 2
}
