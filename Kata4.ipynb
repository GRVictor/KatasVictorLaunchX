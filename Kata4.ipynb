{
 "cells": [
  {
   "cell_type": "markdown",
   "metadata": {},
   "source": [
    "## Transformar cadenas\n",
    "\n",
    "¿Sabías que... De la Luna?"
   ]
  },
  {
   "cell_type": "code",
   "execution_count": 6,
   "metadata": {},
   "outputs": [],
   "source": [
    "text = \"\"\"Interesting facts about the Moon. The Moon is Earth's only satellite. There are several interesting facts about the Moon and how it affects life here on Earth. \n",
    "On average, the Moon moves 4cm away from the Earth every year. This yearly drift is not significant enough to cause immediate effects on Earth. The highest daylight temperature of the Moon is 127 C.\"\"\""
   ]
  },
  {
   "cell_type": "code",
   "execution_count": 7,
   "metadata": {},
   "outputs": [
    {
     "name": "stdout",
     "output_type": "stream",
     "text": [
      "The Moon is Earth's only satellite\n",
      "There are several interesting facts about the Moon and how it affects life here on Earth\n",
      "This yearly drift is not significant enough to cause immediate effects on Earth\n",
      "The highest daylight temperature of the Moon is 127 C.\n"
     ]
    }
   ],
   "source": [
    "sliceoftext = text.split(\". \")\n",
    "sliceoftext\n",
    "\n",
    "sesameword = [\"average\", \"temperature\", \"distance\"]\n",
    "\n",
    "for fact in sliceoftext:\n",
    "    for sesameword in sesameword:\n",
    "        if sesameword in fact:\n",
    "            print(fact)\n",
    "            break"
   ]
  },
  {
   "cell_type": "markdown",
   "metadata": {},
   "source": [
    "## Formateando cadenas\n",
    "\n",
    "Datos clave sobre la gravedad en varias lunas"
   ]
  },
  {
   "cell_type": "code",
   "execution_count": 8,
   "metadata": {},
   "outputs": [
    {
     "name": "stdout",
     "output_type": "stream",
     "text": [
      "-------------------------------------------------------------------------------- Nombre del Planeta: Marte  Gravedad en Ganímedes: 1.4300000000000002 m/s2\n",
      "\n",
      "Datos de Gravedad sobre: Ganímedes\n",
      "-------------------------------------------------------------------------------\n",
      "Nombre del planeta: Marte \n",
      "Gravedad en Ganímedes: 0.00143 m/s2\n",
      "\n",
      "\n",
      "Datos de Gravedad sobre: Ganímedes\n",
      "-------------------------------------------------------------------------------\n",
      "Nombre del planeta: Marte \n",
      "Gravedad en Ganímedes: 1.4300000000000002 m/s2\n",
      "\n"
     ]
    }
   ],
   "source": [
    "nPlaneta = 'Marte '\n",
    "g = 0.00143\n",
    "nLuna = 'Ganímedes'\n",
    "\n",
    "titulo = f'Datos sobre la gravedad de: {nLuna}'\n",
    "\n",
    "facts = f\"\"\"{'-'*80} Nombre del Planeta: {nPlaneta} Gravedad en {nLuna}: {g*1000} m/s2\"\"\"\n",
    "\n",
    "info = f\"\"\"{titulo.title()} {facts}\"\"\" \n",
    "print(facts)\n",
    "\n",
    "newinfo = \"\"\"\n",
    "Datos de Gravedad sobre: {nLuna}\n",
    "-------------------------------------------------------------------------------\n",
    "Nombre del planeta: {nPlaneta}\n",
    "Gravedad en {nLuna}: {g} m/s2\n",
    "\"\"\"\n",
    "print(newinfo.format(nLuna=nLuna, nPlaneta=nPlaneta, g=g))\n",
    "\n",
    "print(newinfo.format(nLuna=nLuna, nPlaneta=nPlaneta, g=g*1000))\n"
   ]
  }
 ],
 "metadata": {
  "interpreter": {
   "hash": "9c03ba2cdf7396378bfb4f6f58844b901e2151d625ed5524467b4fbff270b873"
  },
  "kernelspec": {
   "display_name": "Python 3.10.2 64-bit",
   "language": "python",
   "name": "python3"
  },
  "language_info": {
   "codemirror_mode": {
    "name": "ipython",
    "version": 3
   },
   "file_extension": ".py",
   "mimetype": "text/x-python",
   "name": "python",
   "nbconvert_exporter": "python",
   "pygments_lexer": "ipython3",
   "version": "3.10.2"
  },
  "orig_nbformat": 4
 },
 "nbformat": 4,
 "nbformat_minor": 2
}
