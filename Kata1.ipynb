{
 "cells": [
  {
   "cell_type": "markdown",
   "metadata": {},
   "source": [
    "## Computadora del barco - Programa que muestra la fecha y de paso le agregamos la hora. \n",
    "\n",
    "\"Hoy es ... y son las ...\""
   ]
  },
  {
   "cell_type": "code",
   "execution_count": 22,
   "metadata": {},
   "outputs": [
    {
     "name": "stdout",
     "output_type": "stream",
     "text": [
      "Hoy es Saturday 12 de February del 2022 y son las: 19:59:52.121285\n"
     ]
    }
   ],
   "source": [
    "from datetime import datetime\n",
    "d = datetime.now()\n",
    "\n",
    "print(\"Hoy es\", d.strftime('%A'), d.day, \"de\", d.strftime('%B'), \"del\", d.year, \"y son las:\", d.time())\n"
   ]
  },
  {
   "cell_type": "markdown",
   "metadata": {},
   "source": [
    "## Computadora del barco - Programa conversor de unidades\n",
    "\n",
    "\"Un pársec equivale 3.26156 años luz, por lo que x parsec equivale a...\"  "
   ]
  },
  {
   "cell_type": "code",
   "execution_count": 23,
   "metadata": {},
   "outputs": [
    {
     "name": "stdout",
     "output_type": "stream",
     "text": [
      "1.309188 parsec son aproximadamente 4.26999521328 años luz, la distancia a la que se encuentra Próxima Centauri B, el planeta habitable más cercano a la Tierra.\n"
     ]
    }
   ],
   "source": [
    "parsec = 1.309188\n",
    "lightyears = 3.26156 * parsec\n",
    "\n",
    "print(str(parsec) + \" parsec son aproximadamente \" + str(lightyears) + \" años luz, la distancia a la que se encuentra Próxima Centauri B, el planeta habitable más cercano a la Tierra.\")"
   ]
  }
 ],
 "metadata": {
  "interpreter": {
   "hash": "9c03ba2cdf7396378bfb4f6f58844b901e2151d625ed5524467b4fbff270b873"
  },
  "kernelspec": {
   "display_name": "Python 3.10.2 64-bit",
   "language": "python",
   "name": "python3"
  },
  "language_info": {
   "codemirror_mode": {
    "name": "ipython",
    "version": 3
   },
   "file_extension": ".py",
   "mimetype": "text/x-python",
   "name": "python",
   "nbconvert_exporter": "python",
   "pygments_lexer": "ipython3",
   "version": "3.10.2"
  },
  "orig_nbformat": 4
 },
 "nbformat": 4,
 "nbformat_minor": 2
}
