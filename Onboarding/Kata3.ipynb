{
 "cells": [
  {
   "cell_type": "markdown",
   "metadata": {},
   "source": [
    "## ¡Oh no! Un asteroide se acerca a la tierra.\n",
    "\n",
    "Mostrar advertencia:"
   ]
  },
  {
   "cell_type": "code",
   "execution_count": 1,
   "metadata": {},
   "outputs": [
    {
     "name": "stdout",
     "output_type": "stream",
     "text": [
      "Advertencia, un asteroide impactará la Tierra.\n"
     ]
    }
   ],
   "source": [
    "va = 49\n",
    "if va > 25:\n",
    "    print(\"Advertencia: Se acerca un asteroide con gran velocidad a la Tierra.\")\n",
    "else:\n",
    "    print(\"El asteroide no es una amenaza, puedes estar tranquilo.\")"
   ]
  },
  {
   "cell_type": "markdown",
   "metadata": {},
   "source": [
    "## Busca un asteroide en el cielo\n",
    "\n",
    "¡Lo encontramos!"
   ]
  },
  {
   "cell_type": "code",
   "execution_count": null,
   "metadata": {},
   "outputs": [],
   "source": [
    "va = 19\n",
    "if va > 20:\n",
    "    print(\"¿Es un ave, es un avión? No, es un asteroide produciendo un rayo de luz.\")\n",
    "elif va == 20:\n",
    "    print(\"¿Es un ave, es un avión? No, es un asteroide produciendo un rayo de luz.\")\n",
    "else:\n",
    "    print(\"Ni te desgastes en mirar al cielo, solo verás nubes.\")"
   ]
  },
  {
   "cell_type": "markdown",
   "metadata": {},
   "source": [
    "## Sistema de advertencia"
   ]
  },
  {
   "cell_type": "code",
   "execution_count": null,
   "metadata": {},
   "outputs": [],
   "source": [
    "pa = 199\n",
    "va = 30\n",
    "if pa > 25 and va>25:\n",
    "    print(\"Advertencia: Un asteroide de gran magnitud se acerca con velocidad a la Tierra.\")\n",
    "elif va >= 20:\n",
    "    print(\"¿Es un ave, es un avión? No, es un asteroide produciendo un rayo de luz.\")\n",
    "elif va < 25:\n",
    "    print(\"Ni te desgastes en mirar al cielo, solo verás nubes.\")\n",
    "else:\n",
    "    print(\"Ni te desgastes en mirar al cielo, solo verás nubes.\")"
   ]
  }
 ],
 "metadata": {
  "interpreter": {
   "hash": "9c03ba2cdf7396378bfb4f6f58844b901e2151d625ed5524467b4fbff270b873"
  },
  "kernelspec": {
   "display_name": "Python 3.10.2 64-bit",
   "language": "python",
   "name": "python3"
  },
  "language_info": {
   "codemirror_mode": {
    "name": "ipython",
    "version": 3
   },
   "file_extension": ".py",
   "mimetype": "text/x-python",
   "name": "python",
   "nbconvert_exporter": "python",
   "pygments_lexer": "ipython3",
   "version": "3.10.2"
  },
  "orig_nbformat": 4
 },
 "nbformat": 4,
 "nbformat_minor": 2
}
