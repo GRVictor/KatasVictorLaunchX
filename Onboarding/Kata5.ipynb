{
 "cells": [
  {
   "cell_type": "markdown",
   "metadata": {},
   "source": [
    "## Distancia entre planetas"
   ]
  },
  {
   "cell_type": "code",
   "execution_count": 7,
   "metadata": {},
   "outputs": [
    {
     "name": "stdout",
     "output_type": "stream",
     "text": [
      "La distancia es: 628949330 Km\n",
      "La distancia en millas es: 390577533.93\n"
     ]
    }
   ],
   "source": [
    "planeta_uno = 149597870\n",
    "planeta_dos = 778547200\n",
    "\n",
    "distancia_km = planeta_dos - planeta_uno\n",
    "print(\"La distancia es:\", distancia_km, \"Km\")\n",
    "\n",
    "distancia_millas = distancia_km * 0.621\n",
    "print(\"La distancia en millas es:\", distancia_millas)"
   ]
  },
  {
   "cell_type": "markdown",
   "metadata": {},
   "source": [
    "## Ahora con un input"
   ]
  },
  {
   "cell_type": "code",
   "execution_count": 8,
   "metadata": {},
   "outputs": [
    {
     "name": "stdout",
     "output_type": "stream",
     "text": [
      "3\n",
      "1.863\n"
     ]
    }
   ],
   "source": [
    "planeta_uno = input(\n",
    "    'Introduzca la distancia del sol para el primer planeta en KM')\n",
    "planeta_dos = input(\n",
    "    'Introduzca la distancia desde el sol para el segundo planeta en KM')\n",
    "planeta_uno = int(planeta_uno)\n",
    "planeta_dos = int(planeta_dos)\n",
    "distancia_km = planeta_dos - planeta_uno\n",
    "print(\"La distancia en kilometros es: \", distancia_km)\n",
    "distancia_millas = distancia_km * 0.621\n",
    "print(abs(\"La distancia en millas es: \", distancia_millas))"
   ]
  }
 ],
 "metadata": {
  "interpreter": {
   "hash": "9c03ba2cdf7396378bfb4f6f58844b901e2151d625ed5524467b4fbff270b873"
  },
  "kernelspec": {
   "display_name": "Python 3.10.2 64-bit",
   "language": "python",
   "name": "python3"
  },
  "language_info": {
   "codemirror_mode": {
    "name": "ipython",
    "version": 3
   },
   "file_extension": ".py",
   "mimetype": "text/x-python",
   "name": "python",
   "nbconvert_exporter": "python",
   "pygments_lexer": "ipython3",
   "version": "3.10.2"
  },
  "orig_nbformat": 4
 },
 "nbformat": 4,
 "nbformat_minor": 2
}
